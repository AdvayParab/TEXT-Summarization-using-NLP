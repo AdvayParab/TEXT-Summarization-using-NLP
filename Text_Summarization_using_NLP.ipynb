{
  "nbformat": 4,
  "nbformat_minor": 0,
  "metadata": {
    "colab": {
      "provenance": []
    },
    "kernelspec": {
      "name": "python3",
      "display_name": "Python 3"
    },
    "language_info": {
      "name": "python"
    }
  },
  "cells": [
    {
      "cell_type": "code",
      "execution_count": 1,
      "metadata": {
        "id": "dijR_HPnVF0j"
      },
      "outputs": [],
      "source": [
        "text =\"\"\"To summarize your profile, you are an aspiring data Scientist with a strong foundation\n",
        " in data analysis, statistics, and programming, equipped with coding skills in Python, MATLAB, Power BI, and SQL.\n",
        " You hold an M.Sc. in Engineering Mathematics and have gained practical experience through internships and projects in\n",
        " diverse areas, including house price prediction, stock market forecasting, and Android app development.\n",
        " Your recent training and work with geospatial data and machine learning demonstrate your growing expertise in advanced analytics.\n",
        "Throughout your journey, you’ve developed the ability to leverage data-driven insights to solve complex problems and\n",
        "create meaningful impact. You have a keen interest in customer lifecycle management and using machine learning for\n",
        "customer relations, backed by hands-on experience in time series analysis, recommendation systems, and NLP-based tools.\n",
        "This combination of analytical skill, practical project experience, and dedication to learning makes you a strong candidate\n",
        "for roles where data science and machine learning can transform customer interactions and strategies.\"\"\""
      ]
    },
    {
      "cell_type": "code",
      "source": [
        "import spacy\n",
        "from spacy.lang.en.stop_words import STOP_WORDS"
      ],
      "metadata": {
        "id": "BK0lpjgSVNCX"
      },
      "execution_count": 2,
      "outputs": []
    },
    {
      "cell_type": "code",
      "source": [
        "from string import punctuation\n"
      ],
      "metadata": {
        "id": "-QKUSCXZVPXQ"
      },
      "execution_count": 3,
      "outputs": []
    },
    {
      "cell_type": "code",
      "source": [
        "stopwords = list(STOP_WORDS)\n"
      ],
      "metadata": {
        "id": "JLn7b_UuVU9i"
      },
      "execution_count": 4,
      "outputs": []
    },
    {
      "cell_type": "code",
      "source": [
        "nlp = spacy.load('en_core_web_sm')"
      ],
      "metadata": {
        "id": "spocM2c6VX-Q"
      },
      "execution_count": 5,
      "outputs": []
    },
    {
      "cell_type": "code",
      "source": [
        "doc = nlp(text)\n",
        "\n",
        ""
      ],
      "metadata": {
        "id": "en87j6UrVbCm"
      },
      "execution_count": 6,
      "outputs": []
    },
    {
      "cell_type": "code",
      "source": [
        "tokens = [token.text for token in doc]\n",
        "print(tokens)"
      ],
      "metadata": {
        "colab": {
          "base_uri": "https://localhost:8080/"
        },
        "id": "YPvUpaQ-WDi2",
        "outputId": "9cd40040-b987-4fc9-e4d4-72f456b0a83d"
      },
      "execution_count": 7,
      "outputs": [
        {
          "output_type": "stream",
          "name": "stdout",
          "text": [
            "['To', 'summarize', 'your', 'profile', ',', 'you', 'are', 'an', 'aspiring', 'data', 'Scientist', 'with', 'a', 'strong', 'foundation', '\\n ', 'in', 'data', 'analysis', ',', 'statistics', ',', 'and', 'programming', ',', 'equipped', 'with', 'coding', 'skills', 'in', 'Python', ',', 'MATLAB', ',', 'Power', 'BI', ',', 'and', 'SQL', '.', '\\n ', 'You', 'hold', 'an', 'M.Sc', '.', 'in', 'Engineering', 'Mathematics', 'and', 'have', 'gained', 'practical', 'experience', 'through', 'internships', 'and', 'projects', 'in', '\\n ', 'diverse', 'areas', ',', 'including', 'house', 'price', 'prediction', ',', 'stock', 'market', 'forecasting', ',', 'and', 'Android', 'app', 'development', '.', '\\n ', 'Your', 'recent', 'training', 'and', 'work', 'with', 'geospatial', 'data', 'and', 'machine', 'learning', 'demonstrate', 'your', 'growing', 'expertise', 'in', 'advanced', 'analytics', '.', '\\n', 'Throughout', 'your', 'journey', ',', 'you', '’ve', 'developed', 'the', 'ability', 'to', 'leverage', 'data', '-', 'driven', 'insights', 'to', 'solve', 'complex', 'problems', 'and', '\\n', 'create', 'meaningful', 'impact', '.', 'You', 'have', 'a', 'keen', 'interest', 'in', 'customer', 'lifecycle', 'management', 'and', 'using', 'machine', 'learning', 'for', '\\n', 'customer', 'relations', ',', 'backed', 'by', 'hands', '-', 'on', 'experience', 'in', 'time', 'series', 'analysis', ',', 'recommendation', 'systems', ',', 'and', 'NLP', '-', 'based', 'tools', '.', '\\n', 'This', 'combination', 'of', 'analytical', 'skill', ',', 'practical', 'project', 'experience', ',', 'and', 'dedication', 'to', 'learning', 'makes', 'you', 'a', 'strong', 'candidate', '\\n', 'for', 'roles', 'where', 'data', 'science', 'and', 'machine', 'learning', 'can', 'transform', 'customer', 'interactions', 'and', 'strategies', '.']\n"
          ]
        }
      ]
    },
    {
      "cell_type": "code",
      "source": [
        "punctuation = punctuation + '\\n'\n",
        "punctuation"
      ],
      "metadata": {
        "colab": {
          "base_uri": "https://localhost:8080/",
          "height": 36
        },
        "id": "3no4-mXxWGbS",
        "outputId": "6c8da7e1-f0ff-4512-87e9-0e0ba9aff7f0"
      },
      "execution_count": 8,
      "outputs": [
        {
          "output_type": "execute_result",
          "data": {
            "text/plain": [
              "'!\"#$%&\\'()*+,-./:;<=>?@[\\\\]^_`{|}~\\n'"
            ],
            "application/vnd.google.colaboratory.intrinsic+json": {
              "type": "string"
            }
          },
          "metadata": {},
          "execution_count": 8
        }
      ]
    },
    {
      "cell_type": "code",
      "source": [
        "word_frequencies = {}\n",
        "for word in doc:\n",
        "    if word.text.lower() not in stopwords:\n",
        "        if word.text.lower() not in punctuation:\n",
        "            if word.text not in word_frequencies.keys():\n",
        "                word_frequencies[word.text] = 1\n",
        "            else:\n",
        "                word_frequencies[word.text] += 1\n",
        ""
      ],
      "metadata": {
        "id": "42zfL9uuWryW"
      },
      "execution_count": 9,
      "outputs": []
    },
    {
      "cell_type": "code",
      "source": [
        "print(word_frequencies)"
      ],
      "metadata": {
        "colab": {
          "base_uri": "https://localhost:8080/"
        },
        "id": "ElYKJgTQWwNH",
        "outputId": "b61ce223-275a-4343-efe0-f8ae8e2a7d04"
      },
      "execution_count": 10,
      "outputs": [
        {
          "output_type": "stream",
          "name": "stdout",
          "text": [
            "{'summarize': 1, 'profile': 1, 'aspiring': 1, 'data': 5, 'Scientist': 1, 'strong': 2, 'foundation': 1, '\\n ': 4, 'analysis': 2, 'statistics': 1, 'programming': 1, 'equipped': 1, 'coding': 1, 'skills': 1, 'Python': 1, 'MATLAB': 1, 'Power': 1, 'BI': 1, 'SQL': 1, 'hold': 1, 'M.Sc': 1, 'Engineering': 1, 'Mathematics': 1, 'gained': 1, 'practical': 2, 'experience': 3, 'internships': 1, 'projects': 1, 'diverse': 1, 'areas': 1, 'including': 1, 'house': 1, 'price': 1, 'prediction': 1, 'stock': 1, 'market': 1, 'forecasting': 1, 'Android': 1, 'app': 1, 'development': 1, 'recent': 1, 'training': 1, 'work': 1, 'geospatial': 1, 'machine': 3, 'learning': 4, 'demonstrate': 1, 'growing': 1, 'expertise': 1, 'advanced': 1, 'analytics': 1, 'journey': 1, 'developed': 1, 'ability': 1, 'leverage': 1, 'driven': 1, 'insights': 1, 'solve': 1, 'complex': 1, 'problems': 1, 'create': 1, 'meaningful': 1, 'impact': 1, 'keen': 1, 'interest': 1, 'customer': 3, 'lifecycle': 1, 'management': 1, 'relations': 1, 'backed': 1, 'hands': 1, 'time': 1, 'series': 1, 'recommendation': 1, 'systems': 1, 'NLP': 1, 'based': 1, 'tools': 1, 'combination': 1, 'analytical': 1, 'skill': 1, 'project': 1, 'dedication': 1, 'makes': 1, 'candidate': 1, 'roles': 1, 'science': 1, 'transform': 1, 'interactions': 1, 'strategies': 1}\n"
          ]
        }
      ]
    },
    {
      "cell_type": "code",
      "source": [
        "max_frequency = max(word_frequencies.values())\n"
      ],
      "metadata": {
        "id": "RT1ZZlOQWzMO"
      },
      "execution_count": 12,
      "outputs": []
    },
    {
      "cell_type": "code",
      "source": [
        "max_frequency"
      ],
      "metadata": {
        "colab": {
          "base_uri": "https://localhost:8080/"
        },
        "id": "FYFV7gSFW3fu",
        "outputId": "f3de4477-da7c-4a40-8fd2-a529fcf5ed35"
      },
      "execution_count": 13,
      "outputs": [
        {
          "output_type": "execute_result",
          "data": {
            "text/plain": [
              "5"
            ]
          },
          "metadata": {},
          "execution_count": 13
        }
      ]
    },
    {
      "cell_type": "code",
      "source": [
        "for word in word_frequencies.keys():\n",
        "    word_frequencies[word] = word_frequencies[word]/max_frequency\n",
        ""
      ],
      "metadata": {
        "id": "PDYwipSRW6_9"
      },
      "execution_count": 14,
      "outputs": []
    },
    {
      "cell_type": "code",
      "source": [
        "print(word_frequencies)"
      ],
      "metadata": {
        "colab": {
          "base_uri": "https://localhost:8080/"
        },
        "id": "4qYnc31NW_fs",
        "outputId": "e03a46b6-23d8-4d3c-c929-7dc9c0efc147"
      },
      "execution_count": 15,
      "outputs": [
        {
          "output_type": "stream",
          "name": "stdout",
          "text": [
            "{'summarize': 0.2, 'profile': 0.2, 'aspiring': 0.2, 'data': 1.0, 'Scientist': 0.2, 'strong': 0.4, 'foundation': 0.2, '\\n ': 0.8, 'analysis': 0.4, 'statistics': 0.2, 'programming': 0.2, 'equipped': 0.2, 'coding': 0.2, 'skills': 0.2, 'Python': 0.2, 'MATLAB': 0.2, 'Power': 0.2, 'BI': 0.2, 'SQL': 0.2, 'hold': 0.2, 'M.Sc': 0.2, 'Engineering': 0.2, 'Mathematics': 0.2, 'gained': 0.2, 'practical': 0.4, 'experience': 0.6, 'internships': 0.2, 'projects': 0.2, 'diverse': 0.2, 'areas': 0.2, 'including': 0.2, 'house': 0.2, 'price': 0.2, 'prediction': 0.2, 'stock': 0.2, 'market': 0.2, 'forecasting': 0.2, 'Android': 0.2, 'app': 0.2, 'development': 0.2, 'recent': 0.2, 'training': 0.2, 'work': 0.2, 'geospatial': 0.2, 'machine': 0.6, 'learning': 0.8, 'demonstrate': 0.2, 'growing': 0.2, 'expertise': 0.2, 'advanced': 0.2, 'analytics': 0.2, 'journey': 0.2, 'developed': 0.2, 'ability': 0.2, 'leverage': 0.2, 'driven': 0.2, 'insights': 0.2, 'solve': 0.2, 'complex': 0.2, 'problems': 0.2, 'create': 0.2, 'meaningful': 0.2, 'impact': 0.2, 'keen': 0.2, 'interest': 0.2, 'customer': 0.6, 'lifecycle': 0.2, 'management': 0.2, 'relations': 0.2, 'backed': 0.2, 'hands': 0.2, 'time': 0.2, 'series': 0.2, 'recommendation': 0.2, 'systems': 0.2, 'NLP': 0.2, 'based': 0.2, 'tools': 0.2, 'combination': 0.2, 'analytical': 0.2, 'skill': 0.2, 'project': 0.2, 'dedication': 0.2, 'makes': 0.2, 'candidate': 0.2, 'roles': 0.2, 'science': 0.2, 'transform': 0.2, 'interactions': 0.2, 'strategies': 0.2}\n"
          ]
        }
      ]
    },
    {
      "cell_type": "code",
      "source": [
        "sentence_tokens = [sent for sent in doc.sents]\n",
        "print(sentence_tokens)"
      ],
      "metadata": {
        "colab": {
          "base_uri": "https://localhost:8080/"
        },
        "id": "qs8c5HtAXDT6",
        "outputId": "b3512a15-c3dd-495b-f06f-dd39a05eed3c"
      },
      "execution_count": 16,
      "outputs": [
        {
          "output_type": "stream",
          "name": "stdout",
          "text": [
            "[To summarize your profile, you are an aspiring data Scientist with a strong foundation\n",
            " in data analysis, statistics, and programming, equipped with coding skills in Python, MATLAB, Power BI, and SQL. \n",
            " , You hold an M.Sc., in Engineering Mathematics, and have gained practical experience through internships and projects in \n",
            " diverse areas, including house price prediction, stock market forecasting, and Android app development. \n",
            " , Your recent training and work with geospatial data and machine learning demonstrate your growing expertise in advanced analytics.\n",
            ", Throughout your journey, you’ve developed the ability to leverage data-driven insights to solve complex problems and\n",
            "create meaningful impact., You have a keen interest in customer lifecycle management and using machine learning for \n",
            "customer relations, backed by hands-on experience in time series analysis, recommendation systems, and NLP-based tools. \n",
            ", This combination of analytical skill, practical project experience, and dedication to learning makes you a strong candidate\n",
            "for roles where data science and machine learning can transform customer interactions and strategies.]\n"
          ]
        }
      ]
    },
    {
      "cell_type": "code",
      "source": [
        "sentence_scores = {}\n",
        "for sent in sentence_tokens:\n",
        "  for word in sent:\n",
        "    if word.text.lower() in word_frequencies.keys():\n",
        "      if sent not in sentence_scores.keys():\n",
        "        sentence_scores[sent] = word_frequencies[word.text.lower()]\n",
        "      else:\n",
        "        sentence_scores[sent] += word_frequencies[word.text.lower()]"
      ],
      "metadata": {
        "id": "kt7naEJwXHij"
      },
      "execution_count": 17,
      "outputs": []
    },
    {
      "cell_type": "code",
      "source": [
        "sentence_scores"
      ],
      "metadata": {
        "colab": {
          "base_uri": "https://localhost:8080/"
        },
        "id": "hLVL-DQvXMcW",
        "outputId": "9d611c04-b3cb-4ff8-ef91-162abb9d4525"
      },
      "execution_count": 18,
      "outputs": [
        {
          "output_type": "execute_result",
          "data": {
            "text/plain": [
              "{To summarize your profile, you are an aspiring data Scientist with a strong foundation\n",
              "  in data analysis, statistics, and programming, equipped with coding skills in Python, MATLAB, Power BI, and SQL. \n",
              "  : 6.200000000000001,\n",
              " You hold an M.Sc.: 0.2,\n",
              " and have gained practical experience through internships and projects in \n",
              "  diverse areas, including house price prediction, stock market forecasting, and Android app development. \n",
              "  : 5.400000000000002,\n",
              " Your recent training and work with geospatial data and machine learning demonstrate your growing expertise in advanced analytics.: 4.200000000000001,\n",
              " Throughout your journey, you’ve developed the ability to leverage data-driven insights to solve complex problems and\n",
              " create meaningful impact.: 3.4000000000000012,\n",
              " You have a keen interest in customer lifecycle management and using machine learning for \n",
              " customer relations, backed by hands-on experience in time series analysis, recommendation systems, and NLP-based tools. : 6.200000000000001,\n",
              " This combination of analytical skill, practical project experience, and dedication to learning makes you a strong candidate\n",
              " for roles where data science and machine learning can transform customer interactions and strategies.: 7.6000000000000005}"
            ]
          },
          "metadata": {},
          "execution_count": 18
        }
      ]
    },
    {
      "cell_type": "code",
      "source": [
        "from heapq import nlargest"
      ],
      "metadata": {
        "id": "AAa_QwgrXO88"
      },
      "execution_count": 19,
      "outputs": []
    },
    {
      "cell_type": "code",
      "source": [
        "select_length = int(len(sentence_tokens)*0.3)\n",
        "select_length"
      ],
      "metadata": {
        "colab": {
          "base_uri": "https://localhost:8080/"
        },
        "id": "3qSoTqQIXU3n",
        "outputId": "ceea58fe-747e-4da8-878c-67569668a1bc"
      },
      "execution_count": 20,
      "outputs": [
        {
          "output_type": "execute_result",
          "data": {
            "text/plain": [
              "2"
            ]
          },
          "metadata": {},
          "execution_count": 20
        }
      ]
    },
    {
      "cell_type": "code",
      "source": [
        "summary = nlargest(select_length, sentence_scores, key = sentence_scores.get)\n"
      ],
      "metadata": {
        "id": "9wIcIKfQXXKy"
      },
      "execution_count": 21,
      "outputs": []
    },
    {
      "cell_type": "code",
      "source": [
        "summary"
      ],
      "metadata": {
        "colab": {
          "base_uri": "https://localhost:8080/"
        },
        "id": "vGf8_i4MXcmC",
        "outputId": "7bda2f4a-1c51-4c3d-c772-8531d0fc2b72"
      },
      "execution_count": 22,
      "outputs": [
        {
          "output_type": "execute_result",
          "data": {
            "text/plain": [
              "[This combination of analytical skill, practical project experience, and dedication to learning makes you a strong candidate\n",
              " for roles where data science and machine learning can transform customer interactions and strategies.,\n",
              " To summarize your profile, you are an aspiring data Scientist with a strong foundation\n",
              "  in data analysis, statistics, and programming, equipped with coding skills in Python, MATLAB, Power BI, and SQL. \n",
              "  ]"
            ]
          },
          "metadata": {},
          "execution_count": 22
        }
      ]
    },
    {
      "cell_type": "code",
      "source": [
        "final_summary = [word.text for word in summary]\n"
      ],
      "metadata": {
        "id": "TnU14zD-Xesr"
      },
      "execution_count": 23,
      "outputs": []
    },
    {
      "cell_type": "code",
      "source": [
        "summary = ' '.join(final_summary)\n"
      ],
      "metadata": {
        "id": "JD8KnfonXjel"
      },
      "execution_count": 24,
      "outputs": []
    },
    {
      "cell_type": "code",
      "source": [
        "print(text)"
      ],
      "metadata": {
        "colab": {
          "base_uri": "https://localhost:8080/"
        },
        "id": "ITUGE_9dXmNd",
        "outputId": "582d20f6-3877-4495-dfe3-a0589d494960"
      },
      "execution_count": 26,
      "outputs": [
        {
          "output_type": "stream",
          "name": "stdout",
          "text": [
            "To summarize your profile, you are an aspiring data Scientist with a strong foundation\n",
            " in data analysis, statistics, and programming, equipped with coding skills in Python, MATLAB, Power BI, and SQL. \n",
            " You hold an M.Sc. in Engineering Mathematics and have gained practical experience through internships and projects in \n",
            " diverse areas, including house price prediction, stock market forecasting, and Android app development. \n",
            " Your recent training and work with geospatial data and machine learning demonstrate your growing expertise in advanced analytics.\n",
            "Throughout your journey, you’ve developed the ability to leverage data-driven insights to solve complex problems and\n",
            "create meaningful impact. You have a keen interest in customer lifecycle management and using machine learning for \n",
            "customer relations, backed by hands-on experience in time series analysis, recommendation systems, and NLP-based tools. \n",
            "This combination of analytical skill, practical project experience, and dedication to learning makes you a strong candidate\n",
            "for roles where data science and machine learning can transform customer interactions and strategies.\n"
          ]
        }
      ]
    },
    {
      "cell_type": "code",
      "source": [
        "print(summary)"
      ],
      "metadata": {
        "colab": {
          "base_uri": "https://localhost:8080/"
        },
        "id": "a0HAkxizXn_9",
        "outputId": "cc95a969-fcad-47e8-a895-74c8ecd4f2d8"
      },
      "execution_count": 27,
      "outputs": [
        {
          "output_type": "stream",
          "name": "stdout",
          "text": [
            "This combination of analytical skill, practical project experience, and dedication to learning makes you a strong candidate\n",
            "for roles where data science and machine learning can transform customer interactions and strategies. To summarize your profile, you are an aspiring data Scientist with a strong foundation\n",
            " in data analysis, statistics, and programming, equipped with coding skills in Python, MATLAB, Power BI, and SQL. \n",
            " \n"
          ]
        }
      ]
    },
    {
      "cell_type": "code",
      "source": [],
      "metadata": {
        "id": "lLKHsZYRXu5G"
      },
      "execution_count": null,
      "outputs": []
    }
  ]
}